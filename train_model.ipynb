{
 "cells": [
  {
   "cell_type": "code",
   "execution_count": 87,
   "metadata": {},
   "outputs": [],
   "source": [
    "import os\n",
    "from PIL import Image\n",
    "import numpy as np\n",
    "from matplotlib import pyplot as plt\n",
    "from keras.utils import np_utils\n",
    "\n",
    "%matplotlib notebook"
   ]
  },
  {
   "cell_type": "code",
   "execution_count": 98,
   "metadata": {},
   "outputs": [],
   "source": [
    "def get_data(folder):\n",
    "    X = []\n",
    "    Y = []\n",
    "    labels = os.listdir(f'./{folder}')\n",
    "    for l in labels:\n",
    "        file_list = os.listdir(f'./{folder}/{l}')\n",
    "        for f in file_list:\n",
    "            im = np.array(Image.open(f'./{folder}/{l}/{f}').convert('L'))\n",
    "            X.append(im)\n",
    "            Y.append(int(l))\n",
    "    X = np.array(X)\n",
    "    Y = np.array(Y)\n",
    "    \n",
    "    return (X, Y)"
   ]
  },
  {
   "cell_type": "code",
   "execution_count": 89,
   "metadata": {},
   "outputs": [
    {
     "data": {
      "text/plain": [
       "(10000, 60, 60)"
      ]
     },
     "execution_count": 89,
     "metadata": {},
     "output_type": "execute_result"
    }
   ],
   "source": [
    "X, Y = get_data('data2')\n",
    "X.shape"
   ]
  },
  {
   "cell_type": "code",
   "execution_count": 99,
   "metadata": {},
   "outputs": [],
   "source": [
    "def load_dataset():\n",
    "    X, Y = get_data('data2')\n",
    "    X = X.reshape((X.shape[0], 60, 60, 1))\n",
    "    X = X.astype('float32')\n",
    "    X /= 255.0\n",
    "    \n",
    "    Y = np_utils.to_categorical(Y, 10)\n",
    "    \n",
    "    return (X, Y)"
   ]
  },
  {
   "cell_type": "code",
   "execution_count": 100,
   "metadata": {},
   "outputs": [],
   "source": [
    "X, Y = load_dataset()"
   ]
  },
  {
   "cell_type": "code",
   "execution_count": 101,
   "metadata": {},
   "outputs": [],
   "source": [
    "from sklearn.model_selection import StratifiedShuffleSplit\n",
    "split=StratifiedShuffleSplit(n_splits=1, test_size=0.2, random_state=9)\n",
    "for tr, ts in split.split(X, Y):\n",
    "    X_train = X[tr]\n",
    "    X_test = X[ts]\n",
    "    \n",
    "    Y_train = Y[tr]\n",
    "    Y_test = Y[ts]"
   ]
  },
  {
   "cell_type": "code",
   "execution_count": 102,
   "metadata": {},
   "outputs": [],
   "source": [
    "from keras.models import Sequential\n",
    "from keras.layers import Dense, Dropout, Activation, Flatten\n",
    "from tensorflow.keras.optimizers import SGD\n",
    "from tensorflow.keras.layers import BatchNormalization\n",
    "from keras.layers import Conv2D, MaxPooling2D, ZeroPadding2D, GlobalAveragePooling2D\n",
    "from keras.layers.advanced_activations import LeakyReLU\n",
    "from keras.preprocessing.image import ImageDataGenerator"
   ]
  },
  {
   "cell_type": "code",
   "execution_count": 103,
   "metadata": {},
   "outputs": [],
   "source": [
    "model = Sequential()\n",
    "model.add(Conv2D(32, (3, 3), activation='relu', kernel_initializer='he_uniform', input_shape=(60, 60, 1)))\n",
    "model.add(MaxPooling2D((2, 2)))\n",
    "model.add(Flatten())\n",
    "model.add(Dense(100, activation='relu', kernel_initializer='he_uniform'))\n",
    "model.add(Dense(10, activation='softmax'))\n",
    "opt = SGD(learning_rate=0.01, momentum=0.9)\n",
    "model.compile(optimizer=opt, loss='categorical_crossentropy', metrics=['accuracy'])\n",
    "\n",
    "# model = Sequential()\n",
    "# model.add(Dense(256, input_shape=(60, 60, 1)))\n",
    "# model.add(Activation('relu'))\n",
    "# model.add(Dropout(0.45))\n",
    "# model.add(Dense(256))\n",
    "# model.add(Activation('relu'))\n",
    "# model.add(Dropout(0.45))\n",
    "# model.add(Dense(10))\n",
    "# model.add(Activation('softmax'))\n",
    "# opt = SGD(learning_rate=0.01, momentum=0.9)\n",
    "# model.compile(optimizer=opt, loss='categorical_crossentropy', metrics=['accuracy'])\n",
    "\n",
    "# model = Sequential()\n",
    "# model.add(Conv2D(32, kernel_size=(3,3), activation='relu', input_shape=(60, 60, 1)))\n",
    "# model.add(Conv2D(64, (3, 3), activation='relu'))\n",
    "# model.add(MaxPooling2D((3, 3)))\n",
    "# model.add(Dropout(0.5))\n",
    "# model.add(Flatten())\n",
    "# model.add(Dense(250, activation='sigmoid'))\n",
    "# model.add(Dense(10, activation='softmax'))\n",
    "# opt = SGD(learning_rate=0.01, momentum=0.9)\n",
    "# model.compile(optimizer=opt, loss='categorical_crossentropy', metrics=['accuracy'])\n"
   ]
  },
  {
   "cell_type": "code",
   "execution_count": 104,
   "metadata": {},
   "outputs": [
    {
     "name": "stdout",
     "output_type": "stream",
     "text": [
      "Epoch 1/10\n",
      "1500/1500 [==============================] - 84s 51ms/step - loss: 0.0192 - accuracy: 0.9958 - val_loss: 5.1949e-04 - val_accuracy: 0.9998\n",
      "Epoch 2/10\n",
      "1500/1500 [==============================] - 73s 48ms/step - loss: 7.9096e-05 - accuracy: 1.0000 - val_loss: 4.6449e-04 - val_accuracy: 0.9998\n",
      "Epoch 3/10\n",
      "1500/1500 [==============================] - 72s 48ms/step - loss: 4.3489e-05 - accuracy: 1.0000 - val_loss: 4.1195e-04 - val_accuracy: 0.9999\n",
      "Epoch 4/10\n",
      "1500/1500 [==============================] - 74s 50ms/step - loss: 3.0120e-05 - accuracy: 1.0000 - val_loss: 4.3991e-04 - val_accuracy: 0.9999\n",
      "Epoch 5/10\n",
      "1500/1500 [==============================] - 77s 51ms/step - loss: 2.4678e-05 - accuracy: 1.0000 - val_loss: 4.0639e-04 - val_accuracy: 0.9999\n",
      "Epoch 6/10\n",
      "1500/1500 [==============================] - 72s 48ms/step - loss: 2.0269e-05 - accuracy: 1.0000 - val_loss: 4.0383e-04 - val_accuracy: 0.9999\n",
      "Epoch 7/10\n",
      "1500/1500 [==============================] - 69s 46ms/step - loss: 1.7671e-05 - accuracy: 1.0000 - val_loss: 3.9196e-04 - val_accuracy: 0.9999\n",
      "Epoch 8/10\n",
      "1500/1500 [==============================] - 73s 49ms/step - loss: 1.5548e-05 - accuracy: 1.0000 - val_loss: 3.9308e-04 - val_accuracy: 0.9999\n",
      "Epoch 9/10\n",
      "1500/1500 [==============================] - 74s 49ms/step - loss: 1.3818e-05 - accuracy: 1.0000 - val_loss: 3.6485e-04 - val_accuracy: 0.9999\n",
      "Epoch 10/10\n",
      "1500/1500 [==============================] - 74s 49ms/step - loss: 1.2544e-05 - accuracy: 1.0000 - val_loss: 3.7812e-04 - val_accuracy: 0.9999\n"
     ]
    },
    {
     "data": {
      "text/plain": [
       "<keras.callbacks.History at 0x1afc4cd2910>"
      ]
     },
     "execution_count": 104,
     "metadata": {},
     "output_type": "execute_result"
    }
   ],
   "source": [
    "model.fit(X_train, Y_train, epochs=10, batch_size=32, validation_data=(X_test, Y_test))"
   ]
  },
  {
   "cell_type": "code",
   "execution_count": 105,
   "metadata": {},
   "outputs": [
    {
     "data": {
      "text/plain": [
       "0"
      ]
     },
     "execution_count": 105,
     "metadata": {},
     "output_type": "execute_result"
    }
   ],
   "source": [
    "model.predict(X)[3000].argmax()"
   ]
  },
  {
   "cell_type": "code",
   "execution_count": 107,
   "metadata": {},
   "outputs": [
    {
     "name": "stdout",
     "output_type": "stream",
     "text": [
      "INFO:tensorflow:Assets written to: model\\assets\n"
     ]
    }
   ],
   "source": [
    "model.save('model')"
   ]
  },
  {
   "cell_type": "code",
   "execution_count": 106,
   "metadata": {},
   "outputs": [
    {
     "data": {
      "text/plain": [
       "(48000, 60, 60, 1)"
      ]
     },
     "execution_count": 106,
     "metadata": {},
     "output_type": "execute_result"
    }
   ],
   "source": [
    "X_train.shape"
   ]
  },
  {
   "cell_type": "code",
   "execution_count": null,
   "metadata": {},
   "outputs": [],
   "source": []
  }
 ],
 "metadata": {
  "kernelspec": {
   "display_name": "Python 3",
   "language": "python",
   "name": "python3"
  },
  "language_info": {
   "codemirror_mode": {
    "name": "ipython",
    "version": 3
   },
   "file_extension": ".py",
   "mimetype": "text/x-python",
   "name": "python",
   "nbconvert_exporter": "python",
   "pygments_lexer": "ipython3",
   "version": "3.8.5"
  }
 },
 "nbformat": 4,
 "nbformat_minor": 4
}
